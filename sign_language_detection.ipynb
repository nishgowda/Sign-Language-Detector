{
  "nbformat": 4,
  "nbformat_minor": 0,
  "metadata": {
    "colab": {
      "name": "sign_language_detection.ipynb",
      "provenance": [],
      "collapsed_sections": [],
      "authorship_tag": "ABX9TyOVLJIZQCL3PN6Z3WE3lwwG",
      "include_colab_link": true
    },
    "kernelspec": {
      "name": "python3",
      "display_name": "Python 3"
    }
  },
  "cells": [
    {
      "cell_type": "markdown",
      "metadata": {
        "id": "view-in-github",
        "colab_type": "text"
      },
      "source": [
        "<a href=\"https://colab.research.google.com/github/nishgowda/Sign-Language-Detector/blob/master/sign_language_detection.ipynb\" target=\"_parent\"><img src=\"https://colab.research.google.com/assets/colab-badge.svg\" alt=\"Open In Colab\"/></a>"
      ]
    },
    {
      "cell_type": "code",
      "metadata": {
        "id": "wb93ooKuw4GM"
      },
      "source": [
        "from __future__ import print_function\n",
        "import numpy as np\n",
        "import pandas as pd\n",
        "import matplotlib.pyplot as plt\n",
        "import matplotlib.image as mpimg\n",
        "\n",
        "import torch\n",
        "from torch.autograd import Variable\n",
        "import torchvision\n",
        "import torchvision.transforms as transforms\n",
        "import torch.nn as nn\n",
        "import torch.nn.functional as F\n",
        "import torch.optim as optim\n",
        "from torch.utils.data.dataset import Dataset\n",
        "from torch.utils.data import DataLoader\n",
        "from torchvision import datasets, transforms\n",
        "from torchvision.utils import save_image"
      ],
      "execution_count": null,
      "outputs": []
    },
    {
      "cell_type": "code",
      "metadata": {
        "id": "xRaHGFttxLWs"
      },
      "source": [
        "\n",
        "signs = {'0': 'A', '1': 'B', '2': 'C', '3': 'D', '4': 'E', '5': 'F', \n",
        "         '6': 'G', '7': 'H', '8': 'I', '10': 'K', '11': 'L', '12': 'M', \n",
        "         '13': 'N', '14': 'O', '15': 'P', '16': 'Q', '17': 'R', '18': 'S', \n",
        "         '19': 'T', '20': 'U', '21': 'V', '22': 'W', '23': 'X', '24': 'Y' }\n",
        "\n",
        "class SignsLanguageDataset(Dataset):\n",
        "    def __init__(self, train = True, transform = None):\n",
        "        self.train = train\n",
        "        self.transform = transform\n",
        "  \n",
        "        # uses standard mnist sign language translation testing and training data\n",
        "        if self.train == True:\n",
        "            self.signs_lang_dataset = pd.read_csv(\"/content/sign_mnist_test.csv\")\n",
        "        else:\n",
        "            self.signs_lang_dataset = pd.read_csv(\"/content/sign_mnist_train.csv\")\n",
        "            \n",
        "        self.X_set = self.signs_lang_dataset.iloc[:, 1:].values\n",
        "        self.y_set = self.signs_lang_dataset.iloc[:, 0].values\n",
        "        \n",
        "        self.X_set = np.reshape(self.X_set, (self.X_set.shape[0], 1, 28, 28)) / 255\n",
        "        self.y_set = np.array(self.y_set)\n",
        "            \n",
        "    def __getitem__(self, index):\n",
        "        image = self.X_set[index, :, :]\n",
        "        label = self.y_set[index]\n",
        "        sample = {'image_sign': image, 'label': label}\n",
        "        return sample\n",
        "        \n",
        "    def __len__(self):\n",
        "        return self.X_set.__len__()"
      ],
      "execution_count": null,
      "outputs": []
    },
    {
      "cell_type": "code",
      "metadata": {
        "id": "LT3oWO2pxNLI"
      },
      "source": [
        "def train(model, optimizer, epoch, device, train_loader, log_interval):\n",
        "    model.train()\n",
        "\n",
        "    for batch_idx, data in enumerate(train_loader):\n",
        "        img = data['image_sign']\n",
        "        img = img.type(torch.FloatTensor).to(device)\n",
        "        \n",
        "        target = data['label']\n",
        "        target = target.type(torch.LongTensor).to(device)\n",
        "        \n",
        "        optimizer.zero_grad()\n",
        "        \n",
        "        output = model(img)\n",
        "        loss = F.nll_loss(output, target)\n",
        "        \n",
        "        loss.backward()\n",
        "        optimizer.step()\n",
        "        \n",
        "        if batch_idx % log_interval == 0:\n",
        "            print('Train Epoch: {} [{}/{} ({:.0f}%)]\\tLoss: {:.6f}'.format(\n",
        "                epoch, batch_idx * len(img), len(train_loader.dataset),\n",
        "                100. * batch_idx / len(train_loader), loss.item()))\n"
      ],
      "execution_count": null,
      "outputs": []
    },
    {
      "cell_type": "code",
      "metadata": {
        "id": "Tx0sbccaxQ2b"
      },
      "source": [
        "def test(model, device, test_loader):\n",
        "    model.eval()\n",
        "    \n",
        "    test_loss = 0\n",
        "    correct = 0\n",
        "\n",
        "    with torch.no_grad():\n",
        "        for batch_idx, data in enumerate(test_loader):\n",
        "            img = data['image_sign']\n",
        "            img = img.type(torch.FloatTensor).to(device)\n",
        "            target = data['label']\n",
        "            target = target.type(torch.LongTensor).to(device)\n",
        "            \n",
        "            output = model(img)\n",
        "            test_loss += F.nll_loss(output, target).item() # sum up batch loss\n",
        "            pred = output.max(1, keepdim=True)[1] # get the index of the max log-probability\n",
        "            correct += pred.eq(target.view_as(pred)).sum().item()\n",
        "\n",
        "    test_loss /= len(test_loader.dataset)\n",
        "    print('\\nTest set: Average loss: {:.4f}, Accuracy: {}/{} ({:.0f}%)\\n'.format(\n",
        "        test_loss, correct, len(test_loader.dataset),\n",
        "        100. * correct / len(test_loader.dataset)))"
      ],
      "execution_count": null,
      "outputs": []
    },
    {
      "cell_type": "code",
      "metadata": {
        "id": "WVoyJbFzxXQt"
      },
      "source": [
        "class CNN(nn.Module):\n",
        "    def __init__(self):\n",
        "        super(CNN, self).__init__()\n",
        "        self.conv1 = nn.Conv2d(1, 80, kernel_size = 5)\n",
        "        self.conv2 = nn.Conv2d(80, 80, kernel_size = 5)\n",
        "\n",
        "        self.pool1 = nn.MaxPool2d(kernel_size = 2, stride = 2, padding = 0)\n",
        "        self.pool2 = nn.MaxPool2d(kernel_size = 2, stride = 2, padding = 0)\n",
        "\n",
        "        self.batch_norm1 = nn.BatchNorm2d(80)\n",
        "        self.batch_norm2 = nn.BatchNorm2d(80)\n",
        "\n",
        "        self.fc1 = nn.Linear(1280, 250)\n",
        "        self.fc2 = nn.Linear(250, 25)\n",
        "\n",
        "    def forward(self, x):\n",
        "        x = self.conv1(x)\n",
        "        x = self.batch_norm1(x)\n",
        "        x = F.relu(x)\n",
        "        x = self.pool1(x)\n",
        "\n",
        "        x = self.conv2(x)\n",
        "        x = self.batch_norm2(x)\n",
        "        x = F.relu(x)\n",
        "        x = self.pool2(x)\n",
        "\n",
        "        x = x.view(x.size(0), -1)\n",
        "\n",
        "        x = F.relu(self.fc1(x))\n",
        "        x = self.fc2(x)\n",
        "        x = F.log_softmax(x, dim=1)\n",
        "        \n",
        "        return x\n",
        "    \n",
        "    def test(self, predictions, labels):\n",
        "        self.eval()\n",
        "        correct = 0\n",
        "        for p, l in zip(predictions, labels):\n",
        "            if p == l:\n",
        "                correct += 1\n",
        "        \n",
        "        acc = correct / len(predictions)\n",
        "        print(\"Correct predictions: %5d / %5d (%5f)\" % (correct, len(predictions), acc))\n",
        "        \n",
        "    def evaluate(self, predictions, labels):\n",
        "        correct = 0\n",
        "        for p, l in zip(predictions, labels):\n",
        "            if p == l:\n",
        "                correct += 1\n",
        "        \n",
        "        acc = correct / len(predictions)\n",
        "        return(acc)\n"
      ],
      "execution_count": null,
      "outputs": []
    },
    {
      "cell_type": "code",
      "metadata": {
        "id": "2Cj89ctVxcTC"
      },
      "source": [
        "\n",
        "batch_size_train = 5\n",
        "batch_size_test = 4\n",
        "\n",
        "dataset_train = SignsLanguageDataset(train=True)\n",
        "dataset_test = SignsLanguageDataset(train=False)\n",
        "train_loader = DataLoader(dataset=dataset_train, batch_size=batch_size_train)\n",
        "test_loader = DataLoader(dataset=dataset_test, batch_size=batch_size_test)\n",
        "\n",
        "torch.manual_seed(123)\n",
        "\n",
        "device = torch.device(\"cuda\" if torch.cuda.is_available() else \"cpu\")\n",
        "\n",
        "learning_rate = 0.001\n",
        "num_epochs = 7\n",
        "\n",
        "model = CNN()\n",
        "optimizer = torch.optim.SGD(model.parameters(), lr=learning_rate, momentum=0.2, weight_decay=0.002)\n",
        "\n",
        "log_interval = 27455\n",
        "\n",
        "for epoch in range(1, num_epochs + 1):\n",
        "    train(model, optimizer, epoch, device, train_loader, log_interval)\n",
        "    test(model, device, test_loader)\n",
        "\n",
        "model_name = \"sign_language.pt\"\n",
        "\n",
        "model_path = f\"models/{model_name}\"\n",
        "torch.save(model.state_dict(), model_path)\n",
        "print(f\"Saved model to {model_path}\")"
      ],
      "execution_count": null,
      "outputs": []
    }
  ]
}